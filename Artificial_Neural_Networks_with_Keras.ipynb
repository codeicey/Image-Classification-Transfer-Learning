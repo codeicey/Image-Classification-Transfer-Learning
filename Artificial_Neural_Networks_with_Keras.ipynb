{
  "nbformat": 4,
  "nbformat_minor": 0,
  "metadata": {
    "colab": {
      "name": "Artificial Neural Networks with Keras.ipynb",
      "provenance": [],
      "toc_visible": true,
      "authorship_tag": "ABX9TyPQtquFydN+E8OuGWIVY18+",
      "include_colab_link": true
    },
    "kernelspec": {
      "display_name": "Python 3",
      "name": "python3"
    },
    "language_info": {
      "name": "python"
    }
  },
  "cells": [
    {
      "cell_type": "markdown",
      "metadata": {
        "id": "view-in-github",
        "colab_type": "text"
      },
      "source": [
        "<a href=\"https://colab.research.google.com/github/madhukar123456/Image-Classification-Transfer-Learning/blob/main/Artificial_Neural_Networks_with_Keras.ipynb\" target=\"_parent\"><img src=\"https://colab.research.google.com/assets/colab-badge.svg\" alt=\"Open In Colab\"/></a>"
      ]
    },
    {
      "cell_type": "markdown",
      "metadata": {
        "id": "sn7_9t7t_Qn9"
      },
      "source": [
        "### Checking tensorflow versions"
      ]
    },
    {
      "cell_type": "code",
      "metadata": {
        "colab": {
          "base_uri": "https://localhost:8080/",
          "height": 35
        },
        "id": "4koXGByV-778",
        "outputId": "ac090b4d-4da9-44a5-b417-649f9c8c949f"
      },
      "source": [
        "import tensorflow as tf\n",
        "from tensorflow import keras\n",
        "tf.__version__\n"
      ],
      "execution_count": null,
      "outputs": [
        {
          "output_type": "execute_result",
          "data": {
            "application/vnd.google.colaboratory.intrinsic+json": {
              "type": "string"
            },
            "text/plain": [
              "'2.4.1'"
            ]
          },
          "metadata": {
            "tags": []
          },
          "execution_count": 1
        }
      ]
    },
    {
      "cell_type": "code",
      "metadata": {
        "colab": {
          "base_uri": "https://localhost:8080/",
          "height": 35
        },
        "id": "IIAxJHSm_M9i",
        "outputId": "c603d266-2bd0-47c3-8486-609a5a288954"
      },
      "source": [
        "keras.__version__"
      ],
      "execution_count": null,
      "outputs": [
        {
          "output_type": "execute_result",
          "data": {
            "application/vnd.google.colaboratory.intrinsic+json": {
              "type": "string"
            },
            "text/plain": [
              "'2.4.0'"
            ]
          },
          "metadata": {
            "tags": []
          },
          "execution_count": 2
        }
      ]
    },
    {
      "cell_type": "markdown",
      "metadata": {
        "id": "freTOw88_nGp"
      },
      "source": [
        "# Building an image classifier using sequential API"
      ]
    },
    {
      "cell_type": "markdown",
      "metadata": {
        "id": "pdxqg8DP_tqS"
      },
      "source": [
        "Fashion MNIST. 70000 grayscale images of 28x28 pixels each, with 10 classes"
      ]
    },
    {
      "cell_type": "code",
      "metadata": {
        "colab": {
          "base_uri": "https://localhost:8080/"
        },
        "id": "a2BR8dGz_rdE",
        "outputId": "1b4b89c9-8c76-40f6-c3fd-bddfbdd3f159"
      },
      "source": [
        "# Loading fashion MNIST\n",
        "fashion_mnist = keras.datasets.fashion_mnist\n",
        "(X_train_full,y_train_full), (X_test, y_test) = fashion_mnist.load_data()\n",
        "X_train_full.shape"
      ],
      "execution_count": null,
      "outputs": [
        {
          "output_type": "stream",
          "text": [
            "Downloading data from https://storage.googleapis.com/tensorflow/tf-keras-datasets/train-labels-idx1-ubyte.gz\n",
            "32768/29515 [=================================] - 0s 0us/step\n",
            "Downloading data from https://storage.googleapis.com/tensorflow/tf-keras-datasets/train-images-idx3-ubyte.gz\n",
            "26427392/26421880 [==============================] - 0s 0us/step\n",
            "Downloading data from https://storage.googleapis.com/tensorflow/tf-keras-datasets/t10k-labels-idx1-ubyte.gz\n",
            "8192/5148 [===============================================] - 0s 0us/step\n",
            "Downloading data from https://storage.googleapis.com/tensorflow/tf-keras-datasets/t10k-images-idx3-ubyte.gz\n",
            "4423680/4422102 [==============================] - 0s 0us/step\n"
          ],
          "name": "stdout"
        },
        {
          "output_type": "execute_result",
          "data": {
            "text/plain": [
              "(60000, 28, 28)"
            ]
          },
          "metadata": {
            "tags": []
          },
          "execution_count": 4
        }
      ]
    },
    {
      "cell_type": "code",
      "metadata": {
        "colab": {
          "base_uri": "https://localhost:8080/"
        },
        "id": "P0CpY-teAr_C",
        "outputId": "9afa9acf-8b6e-47c1-84ed-9c1b547bd40b"
      },
      "source": [
        "X_train_full.dtype"
      ],
      "execution_count": null,
      "outputs": [
        {
          "output_type": "execute_result",
          "data": {
            "text/plain": [
              "dtype('uint8')"
            ]
          },
          "metadata": {
            "tags": []
          },
          "execution_count": 5
        }
      ]
    },
    {
      "cell_type": "code",
      "metadata": {
        "id": "JHVvpOmVAyrO"
      },
      "source": [
        "#Validation split\n",
        "X_valid, X_train = X_train_full[:5000]/255.0, X_train_full[5000:]/255.0\n",
        "y_valid, y_train = y_train_full[:5000] , y_train_full[5000:]"
      ],
      "execution_count": null,
      "outputs": []
    },
    {
      "cell_type": "code",
      "metadata": {
        "id": "aJGc1o9RBXLP"
      },
      "source": [
        "class_names = [\"T-shirt/top\",\"Trouser\",\"Pullover\", \"Dress\",\"Coat\",\"Sandal\",\"Shirt\",\"Sneaker\",\"Bag\",\"Ankle boot\"]"
      ],
      "execution_count": null,
      "outputs": []
    },
    {
      "cell_type": "code",
      "metadata": {
        "colab": {
          "base_uri": "https://localhost:8080/",
          "height": 35
        },
        "id": "MYxnsc4LBfaH",
        "outputId": "aeb88416-047d-4a0d-caae-d41ace422d02"
      },
      "source": [
        "class_names[y_train[1]]"
      ],
      "execution_count": null,
      "outputs": [
        {
          "output_type": "execute_result",
          "data": {
            "application/vnd.google.colaboratory.intrinsic+json": {
              "type": "string"
            },
            "text/plain": [
              "'T-shirt/top'"
            ]
          },
          "metadata": {
            "tags": []
          },
          "execution_count": 11
        }
      ]
    },
    {
      "cell_type": "code",
      "metadata": {
        "colab": {
          "base_uri": "https://localhost:8080/"
        },
        "id": "OaGVfvdMB8jQ",
        "outputId": "603eb0b8-5c88-4223-a7c0-2a3d5954df6b"
      },
      "source": [
        "#Creating model using sequential API\n",
        "\n",
        "model = keras.models.Sequential()                       #Creates sequential model\n",
        "model.add(keras.layers.Flatten(input_shape=[28,28]))    #\n",
        "model.add(keras.layers.Dense(300, activation=\"relu\"))\n",
        "model.add(keras.layers.Dense(100, activation=\"relu\"))\n",
        "model.add(keras.layers.Dense(10, activation=\"softmax\"))\n",
        "model.summary()"
      ],
      "execution_count": null,
      "outputs": [
        {
          "output_type": "stream",
          "text": [
            "Model: \"sequential\"\n",
            "_________________________________________________________________\n",
            "Layer (type)                 Output Shape              Param #   \n",
            "=================================================================\n",
            "flatten (Flatten)            (None, 784)               0         \n",
            "_________________________________________________________________\n",
            "dense (Dense)                (None, 300)               235500    \n",
            "_________________________________________________________________\n",
            "dense_1 (Dense)              (None, 100)               30100     \n",
            "_________________________________________________________________\n",
            "dense_2 (Dense)              (None, 10)                1010      \n",
            "=================================================================\n",
            "Total params: 266,610\n",
            "Trainable params: 266,610\n",
            "Non-trainable params: 0\n",
            "_________________________________________________________________\n"
          ],
          "name": "stdout"
        }
      ]
    },
    {
      "cell_type": "code",
      "metadata": {
        "id": "u3nXU_58FZXG"
      },
      "source": [
        "# Compiling the model \n",
        "model.compile(loss=\"sparse_categorical_crossentropy\",\n",
        "              optimizer=\"sgd\",\n",
        "              metrics=\"accuracy\")\n"
      ],
      "execution_count": null,
      "outputs": []
    },
    {
      "cell_type": "code",
      "metadata": {
        "colab": {
          "base_uri": "https://localhost:8080/"
        },
        "id": "qtHOsC35Hn39",
        "outputId": "c0489f4c-50be-49b9-a054-645310d3f401"
      },
      "source": [
        "# Training and evaluating the model\n",
        "history = model.fit(X_train, y_train, epochs=50, validation_data=(X_valid, y_valid))"
      ],
      "execution_count": null,
      "outputs": [
        {
          "output_type": "stream",
          "text": [
            "Epoch 1/50\n",
            "1719/1719 [==============================] - 4s 2ms/step - loss: 0.2277 - accuracy: 0.9195 - val_loss: 0.2977 - val_accuracy: 0.8898\n",
            "Epoch 2/50\n",
            "1719/1719 [==============================] - 4s 2ms/step - loss: 0.2243 - accuracy: 0.9202 - val_loss: 0.3024 - val_accuracy: 0.8896\n",
            "Epoch 3/50\n",
            "1719/1719 [==============================] - 4s 2ms/step - loss: 0.2200 - accuracy: 0.9213 - val_loss: 0.2900 - val_accuracy: 0.8916\n",
            "Epoch 4/50\n",
            "1719/1719 [==============================] - 4s 2ms/step - loss: 0.2175 - accuracy: 0.9217 - val_loss: 0.3101 - val_accuracy: 0.8870\n",
            "Epoch 5/50\n",
            "1719/1719 [==============================] - 4s 2ms/step - loss: 0.2147 - accuracy: 0.9228 - val_loss: 0.2910 - val_accuracy: 0.8932\n",
            "Epoch 6/50\n",
            "1719/1719 [==============================] - 4s 2ms/step - loss: 0.2106 - accuracy: 0.9247 - val_loss: 0.3110 - val_accuracy: 0.8884\n",
            "Epoch 7/50\n",
            "1719/1719 [==============================] - 4s 2ms/step - loss: 0.2061 - accuracy: 0.9264 - val_loss: 0.2962 - val_accuracy: 0.8930\n",
            "Epoch 8/50\n",
            "1719/1719 [==============================] - 4s 2ms/step - loss: 0.2038 - accuracy: 0.9266 - val_loss: 0.2898 - val_accuracy: 0.8936\n",
            "Epoch 9/50\n",
            "1719/1719 [==============================] - 4s 2ms/step - loss: 0.2004 - accuracy: 0.9283 - val_loss: 0.3058 - val_accuracy: 0.8920\n",
            "Epoch 10/50\n",
            "1719/1719 [==============================] - 4s 2ms/step - loss: 0.1975 - accuracy: 0.9295 - val_loss: 0.2916 - val_accuracy: 0.8966\n",
            "Epoch 11/50\n",
            "1719/1719 [==============================] - 4s 2ms/step - loss: 0.1945 - accuracy: 0.9312 - val_loss: 0.3494 - val_accuracy: 0.8716\n",
            "Epoch 12/50\n",
            "1719/1719 [==============================] - 4s 2ms/step - loss: 0.1911 - accuracy: 0.9322 - val_loss: 0.3201 - val_accuracy: 0.8878\n",
            "Epoch 13/50\n",
            "1719/1719 [==============================] - 4s 2ms/step - loss: 0.1880 - accuracy: 0.9334 - val_loss: 0.3047 - val_accuracy: 0.8898\n",
            "Epoch 14/50\n",
            "1719/1719 [==============================] - 4s 2ms/step - loss: 0.1866 - accuracy: 0.9340 - val_loss: 0.3351 - val_accuracy: 0.8770\n",
            "Epoch 15/50\n",
            "1719/1719 [==============================] - 4s 2ms/step - loss: 0.1817 - accuracy: 0.9350 - val_loss: 0.2973 - val_accuracy: 0.8936\n",
            "Epoch 16/50\n",
            "1719/1719 [==============================] - 4s 2ms/step - loss: 0.1796 - accuracy: 0.9363 - val_loss: 0.2889 - val_accuracy: 0.8972\n",
            "Epoch 17/50\n",
            "1719/1719 [==============================] - 4s 2ms/step - loss: 0.1774 - accuracy: 0.9361 - val_loss: 0.3030 - val_accuracy: 0.8940\n",
            "Epoch 18/50\n",
            "1719/1719 [==============================] - 4s 2ms/step - loss: 0.1744 - accuracy: 0.9376 - val_loss: 0.2908 - val_accuracy: 0.8974\n",
            "Epoch 19/50\n",
            "1719/1719 [==============================] - 4s 2ms/step - loss: 0.1717 - accuracy: 0.9381 - val_loss: 0.2967 - val_accuracy: 0.8984\n",
            "Epoch 20/50\n",
            "1719/1719 [==============================] - 4s 2ms/step - loss: 0.1681 - accuracy: 0.9399 - val_loss: 0.2945 - val_accuracy: 0.8956\n",
            "Epoch 21/50\n",
            "1719/1719 [==============================] - 4s 2ms/step - loss: 0.1667 - accuracy: 0.9405 - val_loss: 0.2950 - val_accuracy: 0.8968\n",
            "Epoch 22/50\n",
            "1719/1719 [==============================] - 4s 2ms/step - loss: 0.1646 - accuracy: 0.9411 - val_loss: 0.2937 - val_accuracy: 0.8992\n",
            "Epoch 23/50\n",
            "1719/1719 [==============================] - 4s 2ms/step - loss: 0.1612 - accuracy: 0.9426 - val_loss: 0.2979 - val_accuracy: 0.8960\n",
            "Epoch 24/50\n",
            "1719/1719 [==============================] - 4s 2ms/step - loss: 0.1596 - accuracy: 0.9431 - val_loss: 0.2887 - val_accuracy: 0.8980\n",
            "Epoch 25/50\n",
            "1719/1719 [==============================] - 4s 2ms/step - loss: 0.1565 - accuracy: 0.9451 - val_loss: 0.3201 - val_accuracy: 0.8886\n",
            "Epoch 26/50\n",
            "1719/1719 [==============================] - 4s 2ms/step - loss: 0.1534 - accuracy: 0.9451 - val_loss: 0.2997 - val_accuracy: 0.8962\n",
            "Epoch 27/50\n",
            "1719/1719 [==============================] - 4s 2ms/step - loss: 0.1522 - accuracy: 0.9460 - val_loss: 0.3221 - val_accuracy: 0.8940\n",
            "Epoch 28/50\n",
            "1719/1719 [==============================] - 4s 2ms/step - loss: 0.1482 - accuracy: 0.9473 - val_loss: 0.3022 - val_accuracy: 0.8970\n",
            "Epoch 29/50\n",
            "1719/1719 [==============================] - 4s 2ms/step - loss: 0.1478 - accuracy: 0.9460 - val_loss: 0.3195 - val_accuracy: 0.8900\n",
            "Epoch 30/50\n",
            "1719/1719 [==============================] - 4s 2ms/step - loss: 0.1443 - accuracy: 0.9482 - val_loss: 0.3075 - val_accuracy: 0.8950\n",
            "Epoch 31/50\n",
            "1719/1719 [==============================] - 4s 2ms/step - loss: 0.1418 - accuracy: 0.9504 - val_loss: 0.2969 - val_accuracy: 0.8940\n",
            "Epoch 32/50\n",
            "1719/1719 [==============================] - 4s 2ms/step - loss: 0.1407 - accuracy: 0.9495 - val_loss: 0.3161 - val_accuracy: 0.8934\n",
            "Epoch 33/50\n",
            "1719/1719 [==============================] - 4s 2ms/step - loss: 0.1383 - accuracy: 0.9516 - val_loss: 0.3095 - val_accuracy: 0.8944\n",
            "Epoch 34/50\n",
            "1719/1719 [==============================] - 4s 2ms/step - loss: 0.1346 - accuracy: 0.9527 - val_loss: 0.3182 - val_accuracy: 0.8940\n",
            "Epoch 35/50\n",
            "1719/1719 [==============================] - 4s 2ms/step - loss: 0.1340 - accuracy: 0.9537 - val_loss: 0.3240 - val_accuracy: 0.8954\n",
            "Epoch 36/50\n",
            "1719/1719 [==============================] - 4s 2ms/step - loss: 0.1318 - accuracy: 0.9532 - val_loss: 0.3167 - val_accuracy: 0.8960\n",
            "Epoch 37/50\n",
            "1719/1719 [==============================] - 4s 2ms/step - loss: 0.1290 - accuracy: 0.9548 - val_loss: 0.3477 - val_accuracy: 0.8840\n",
            "Epoch 38/50\n",
            "1719/1719 [==============================] - 4s 2ms/step - loss: 0.1275 - accuracy: 0.9547 - val_loss: 0.3118 - val_accuracy: 0.8968\n",
            "Epoch 39/50\n",
            "1719/1719 [==============================] - 4s 2ms/step - loss: 0.1252 - accuracy: 0.9558 - val_loss: 0.3153 - val_accuracy: 0.8972\n",
            "Epoch 40/50\n",
            "1719/1719 [==============================] - 4s 2ms/step - loss: 0.1247 - accuracy: 0.9565 - val_loss: 0.3135 - val_accuracy: 0.8958\n",
            "Epoch 41/50\n",
            "1719/1719 [==============================] - 4s 2ms/step - loss: 0.1211 - accuracy: 0.9579 - val_loss: 0.3235 - val_accuracy: 0.8962\n",
            "Epoch 42/50\n",
            "1719/1719 [==============================] - 4s 2ms/step - loss: 0.1195 - accuracy: 0.9574 - val_loss: 0.3236 - val_accuracy: 0.8936\n",
            "Epoch 43/50\n",
            "1719/1719 [==============================] - 4s 2ms/step - loss: 0.1177 - accuracy: 0.9584 - val_loss: 0.3152 - val_accuracy: 0.8992\n",
            "Epoch 44/50\n",
            "1719/1719 [==============================] - 4s 2ms/step - loss: 0.1165 - accuracy: 0.9592 - val_loss: 0.3485 - val_accuracy: 0.8926\n",
            "Epoch 45/50\n",
            "1719/1719 [==============================] - 4s 2ms/step - loss: 0.1135 - accuracy: 0.9605 - val_loss: 0.3251 - val_accuracy: 0.8970\n",
            "Epoch 46/50\n",
            "1719/1719 [==============================] - 4s 2ms/step - loss: 0.1125 - accuracy: 0.9616 - val_loss: 0.3285 - val_accuracy: 0.8976\n",
            "Epoch 47/50\n",
            "1719/1719 [==============================] - 4s 2ms/step - loss: 0.1097 - accuracy: 0.9619 - val_loss: 0.3386 - val_accuracy: 0.8908\n",
            "Epoch 48/50\n",
            "1719/1719 [==============================] - 4s 2ms/step - loss: 0.1098 - accuracy: 0.9614 - val_loss: 0.3196 - val_accuracy: 0.8976\n",
            "Epoch 49/50\n",
            "1719/1719 [==============================] - 4s 2ms/step - loss: 0.1064 - accuracy: 0.9628 - val_loss: 0.3241 - val_accuracy: 0.8964\n",
            "Epoch 50/50\n",
            "1719/1719 [==============================] - 4s 2ms/step - loss: 0.1050 - accuracy: 0.9636 - val_loss: 0.3573 - val_accuracy: 0.8950\n"
          ],
          "name": "stdout"
        }
      ]
    },
    {
      "cell_type": "code",
      "metadata": {
        "colab": {
          "base_uri": "https://localhost:8080/",
          "height": 324
        },
        "id": "L6wMeZh7Jp_c",
        "outputId": "8db6a073-3da0-49ef-c4e6-b7700a4710e8"
      },
      "source": [
        "# Plotting the learning curves\n",
        "import pandas as pd\n",
        "import matplotlib.pyplot as plt\n",
        "\n",
        "pd.DataFrame(history.history).plot(figsize=(8,5))\n",
        "plt.grid(True)\n",
        "plt.gca().set_ylim(0,1) # Set the vertical range [0-1]\n",
        "plt.show()\n"
      ],
      "execution_count": null,
      "outputs": [
        {
          "output_type": "display_data",
          "data": {
            "image/png": "[encoded data removed]",
            "text/plain": [
              "<Figure size 576x360 with 1 Axes>"
            ]
          },
          "metadata": {
            "tags": []
          }
        }
      ]
    },
    {
      "cell_type": "code",
      "metadata": {
        "colab": {
          "base_uri": "https://localhost:8080/"
        },
        "id": "XSZUirmjNLas",
        "outputId": "866d9329-ef5a-440c-8c2f-4b769a7d363e"
      },
      "source": [
        "model.evaluate(X_test, y_test)"
      ],
      "execution_count": null,
      "outputs": [
        {
          "output_type": "stream",
          "text": [
            "313/313 [==============================] - 1s 2ms/step - loss: 107.8550 - accuracy: 0.8343\n"
          ],
          "name": "stdout"
        },
        {
          "output_type": "execute_result",
          "data": {
            "text/plain": [
              "[107.85496520996094, 0.8342999815940857]"
            ]
          },
          "metadata": {
            "tags": []
          },
          "execution_count": 37
        }
      ]
    },
    {
      "cell_type": "code",
      "metadata": {
        "colab": {
          "base_uri": "https://localhost:8080/"
        },
        "id": "LmUss0sIOOdq",
        "outputId": "3334673f-a1de-4070-fe06-bfbb1e861852"
      },
      "source": [
        "# Using the model to make predictions\n",
        "X_new = X_test[:10]\n",
        "y_proba = model.predict(X_new)\n",
        "y_proba.round(2)"
      ],
      "execution_count": null,
      "outputs": [
        {
          "output_type": "execute_result",
          "data": {
            "text/plain": [
              "array([[0., 0., 0., 0., 0., 0., 0., 0., 0., 1.],\n",
              "       [0., 0., 1., 0., 0., 0., 0., 0., 0., 0.],\n",
              "       [0., 1., 0., 0., 0., 0., 0., 0., 0., 0.],\n",
              "       [0., 1., 0., 0., 0., 0., 0., 0., 0., 0.],\n",
              "       [1., 0., 0., 0., 0., 0., 0., 0., 0., 0.],\n",
              "       [0., 1., 0., 0., 0., 0., 0., 0., 0., 0.],\n",
              "       [0., 0., 0., 0., 1., 0., 0., 0., 0., 0.],\n",
              "       [0., 0., 0., 0., 0., 0., 1., 0., 0., 0.],\n",
              "       [0., 0., 0., 0., 0., 1., 0., 0., 0., 0.],\n",
              "       [0., 0., 0., 0., 0., 0., 0., 1., 0., 0.]], dtype=float32)"
            ]
          },
          "metadata": {
            "tags": []
          },
          "execution_count": 39
        }
      ]
    },
    {
      "cell_type": "markdown",
      "metadata": {
        "id": "GpHIjyy2Pz_v"
      },
      "source": [
        "# Building a Regression MLP Using the Sequential API\n"
      ]
    },
    {
      "cell_type": "code",
      "metadata": {
        "id": "aAZ72RA-QCs1"
      },
      "source": [
        "from sklearn.datasets import fetch_california_housing\n",
        "from sklearn.model_selection import train_test_split\n",
        "from sklearn.preprocessing import StandardScaler\n",
        "\n",
        "housing = fetch_california_housing()\n",
        "X_train_full, X_test, y_train_full, y_test = train_test_split(housing.data, housing.target)\n",
        "X_train, X_valid, y_train, y_valid = train_test_split(X_train_full,y_train_full)\n"
      ],
      "execution_count": null,
      "outputs": []
    },
    {
      "cell_type": "code",
      "metadata": {
        "id": "-lEjuLdIR6tI"
      },
      "source": [
        "scaler = StandardScaler()\n",
        "X_train_scaled = scaler.fit_transform(X_train)\n",
        "X_valid_scaled = scaler.transform(X_valid)\n",
        "X_test_scaled = scaler.transform(X_test)"
      ],
      "execution_count": null,
      "outputs": []
    },
    {
      "cell_type": "code",
      "metadata": {
        "colab": {
          "background_save": true,
          "base_uri": "https://localhost:8080/",
          "height": 238
        },
        "id": "xYJ4ORzfSJs4",
        "outputId": "9d975dec-d489-42d1-eb7d-a93e10e9ffcb"
      },
      "source": [
        "\n",
        "model = keras.models.Sequential([\n",
        "      keras.layers.Dense(30, activation=\"relu\", input_shape=X_train.shape[1:]),\n",
        "      keras.layers.Dense(1)\n",
        "])\n",
        "model.compile(loss=\"mean_squared_error\", optimizer=\"sgd\")\n",
        "\n",
        "history = model.fit(X_train, y_train, epochs=20,\n",
        "                    validation_data=(X_valid, y_valid))\n",
        "mse_test = model.evaluate(X_test, y_test)\n",
        "X_new = X_test[:3] # pretend these are new instances\n",
        "y_pred = model.predict(X_new)"
      ],
      "execution_count": null,
      "outputs": [
        {
          "output_type": "stream",
          "text": [
            "Epoch 1/20\n",
            "363/363 [==============================] - 1s 2ms/step - loss: nan - val_loss: nan\n",
            "Epoch 2/20\n",
            "363/363 [==============================] - 0s 893us/step - loss: nan - val_loss: nan\n",
            "Epoch 3/20\n",
            "363/363 [==============================] - 0s 908us/step - loss: nan - val_loss: nan\n",
            "Epoch 4/20\n",
            "363/363 [==============================] - 0s 987us/step - loss: nan - val_loss: nan\n",
            "Epoch 5/20\n",
            "363/363 [==============================] - 0s 887us/step - loss: nan - val_loss: nan\n",
            "Epoch 6/20\n",
            "363/363 [==============================] - 0s 929us/step - loss: nan - val_loss: nan\n",
            "Epoch 7/20\n",
            "363/363 [==============================] - 0s 897us/step - loss: nan - val_loss: nan\n",
            "Epoch 8/20\n",
            "363/363 [==============================] - 0s 914us/step - loss: nan - val_loss: nan\n",
            "Epoch 9/20\n",
            "363/363 [==============================] - 0s 916us/step - loss: nan - val_loss: nan\n",
            "Epoch 10/20\n",
            "363/363 [==============================] - 0s 862us/step - loss: nan - val_loss: nan\n",
            "Epoch 11/20\n",
            "363/363 [==============================] - 0s 846us/step - loss: nan - val_loss: nan\n",
            "Epoch 12/20\n",
            "363/363 [==============================] - 0s 894us/step - loss: nan - val_loss: nan\n",
            "Epoch 13/20\n",
            "363/363 [==============================] - 0s 880us/step - loss: nan - val_loss: nan\n",
            "Epoch 14/20\n",
            "363/363 [==============================] - 0s 916us/step - loss: nan - val_loss: nan\n",
            "Epoch 15/20\n",
            "363/363 [==============================] - 0s 883us/step - loss: nan - val_loss: nan\n",
            "Epoch 16/20\n",
            "363/363 [==============================] - 0s 854us/step - loss: nan - val_loss: nan\n",
            "Epoch 17/20\n",
            "363/363 [==============================] - 0s 873us/step - loss: nan - val_loss: nan\n",
            "Epoch 18/20\n",
            "363/363 [==============================] - 0s 852us/step - loss: nan - val_loss: nan\n",
            "Epoch 19/20\n",
            "363/363 [==============================] - 0s 864us/step - loss: nan - val_loss: nan\n",
            "Epoch 20/20\n",
            "363/363 [==============================] - 0s 894us/step - loss: nan - val_loss: nan\n",
            "162/162 [==============================] - 0s 582us/step - loss: nan\n"
          ],
          "name": "stdout"
        }
      ]
    },
    {
      "cell_type": "markdown",
      "metadata": {
        "id": "2RkPcl66VFhD"
      },
      "source": [
        "# Building Complex models using functional API"
      ]
    },
    {
      "cell_type": "code",
      "metadata": {
        "id": "QHEcql_KU-m8"
      },
      "source": [
        "from sklearn.datasets import fetch_california_housing\n",
        "from sklearn.model_selection import train_test_split\n",
        "from sklearn.preprocessing import StandardScaler\n",
        "\n",
        "housing = fetch_california_housing()\n",
        "X_train_full, X_test, y_train_full, y_test = train_test_split(housing.data, housing.target)\n",
        "X_train, X_valid, y_train, y_valid = train_test_split(X_train_full,y_train_full)"
      ],
      "execution_count": null,
      "outputs": []
    },
    {
      "cell_type": "code",
      "metadata": {
        "id": "C_tzhSQkU_Vp"
      },
      "source": [
        "scaler = StandardScaler()\n",
        "X_train_scaled = scaler.fit_transform(X_train)\n",
        "X_valid_scaled = scaler.transform(X_valid)\n",
        "X_test_scaled = scaler.transform(X_test)"
      ],
      "execution_count": null,
      "outputs": []
    },
    {
      "cell_type": "code",
      "metadata": {
        "colab": {
          "base_uri": "https://localhost:8080/"
        },
        "id": "wH6hHSSwX_mT",
        "outputId": "d6974492-55c0-446b-d7c4-709d29c4e994"
      },
      "source": [
        "y_test"
      ],
      "execution_count": null,
      "outputs": [
        {
          "output_type": "execute_result",
          "data": {
            "text/plain": [
              "array([1.422  , 1.667  , 1.221  , ..., 5.00001, 2.695  , 2.269  ])"
            ]
          },
          "metadata": {
            "tags": []
          },
          "execution_count": 16
        }
      ]
    },
    {
      "cell_type": "code",
      "metadata": {
        "id": "But8hd6kVJ12"
      },
      "source": [
        "# Wide and Deep Neural Network\n",
        "import tensorflow as tf\n",
        "from tensorflow import keras\n",
        "\n",
        "input = keras.layers.Input(shape=X_train.shape[1:])\n",
        "hidden1 = keras.layers.Dense(30, activation=\"relu\")(input)\n",
        "hidden2 = keras.layers.Dense(30, activation=\"relu\")(hidden1)\n",
        "concat = keras.layers.Concatenate()([input, hidden2])\n",
        "output = keras.layers.Dense(1)(concat)\n",
        "model = keras.models.Model(inputs=[input], outputs=[output])\n",
        "model = keras.models.Model(inputs=[input], outputs=[output])"
      ],
      "execution_count": null,
      "outputs": []
    },
    {
      "cell_type": "code",
      "metadata": {
        "colab": {
          "base_uri": "https://localhost:8080/"
        },
        "id": "WBexbKAkXttw",
        "outputId": "c0d8cdba-5510-4555-ab38-1ee6973c8614"
      },
      "source": [
        ""
      ],
      "execution_count": null,
      "outputs": [
        {
          "output_type": "execute_result",
          "data": {
            "text/plain": [
              "array([2.538  , 2.033  , 2.832  , 1.294  , 5.00001, 0.87   , 0.904  ,\n",
              "       2.507  , 2.017  , 0.967  ])"
            ]
          },
          "metadata": {
            "tags": []
          },
          "execution_count": 14
        }
      ]
    },
    {
      "cell_type": "code",
      "metadata": {
        "colab": {
          "base_uri": "https://localhost:8080/"
        },
        "id": "I6UK2VhIWQkI",
        "outputId": "e2731914-f11f-4ab7-d5fb-c1c175950d79"
      },
      "source": [
        "model.compile(loss=\"mean_squared_error\", optimizer=\"sgd\")\n",
        "\n",
        "history = model.fit(X_train, y_train, epochs=20,\n",
        "                    validation_data=(X_valid, y_valid))\n",
        "mse_test = model.evaluate(X_test, y_test)\n",
        "X_new = X_test[:3] # pretend these are new instances\n",
        "y_pred = model.predict(X_new)"
      ],
      "execution_count": null,
      "outputs": [
        {
          "output_type": "stream",
          "text": [
            "Epoch 1/20\n",
            "363/363 [==============================] - 1s 1ms/step - loss: nan - val_loss: nan\n",
            "Epoch 2/20\n",
            "363/363 [==============================] - 0s 945us/step - loss: nan - val_loss: nan\n",
            "Epoch 3/20\n",
            "363/363 [==============================] - 0s 914us/step - loss: nan - val_loss: nan\n",
            "Epoch 4/20\n",
            "363/363 [==============================] - 0s 914us/step - loss: nan - val_loss: nan\n",
            "Epoch 5/20\n",
            "363/363 [==============================] - 0s 932us/step - loss: nan - val_loss: nan\n",
            "Epoch 6/20\n",
            "363/363 [==============================] - 0s 940us/step - loss: nan - val_loss: nan\n",
            "Epoch 7/20\n",
            "363/363 [==============================] - 0s 920us/step - loss: nan - val_loss: nan\n",
            "Epoch 8/20\n",
            "363/363 [==============================] - 0s 938us/step - loss: nan - val_loss: nan\n",
            "Epoch 9/20\n",
            "363/363 [==============================] - 0s 926us/step - loss: nan - val_loss: nan\n",
            "Epoch 10/20\n",
            "363/363 [==============================] - 0s 923us/step - loss: nan - val_loss: nan\n",
            "Epoch 11/20\n",
            "363/363 [==============================] - 0s 967us/step - loss: nan - val_loss: nan\n",
            "Epoch 12/20\n",
            "363/363 [==============================] - 0s 972us/step - loss: nan - val_loss: nan\n",
            "Epoch 13/20\n",
            "363/363 [==============================] - 0s 925us/step - loss: nan - val_loss: nan\n",
            "Epoch 14/20\n",
            "363/363 [==============================] - 0s 970us/step - loss: nan - val_loss: nan\n",
            "Epoch 15/20\n",
            "363/363 [==============================] - 0s 879us/step - loss: nan - val_loss: nan\n",
            "Epoch 16/20\n",
            "363/363 [==============================] - 0s 962us/step - loss: nan - val_loss: nan\n",
            "Epoch 17/20\n",
            "363/363 [==============================] - 0s 981us/step - loss: nan - val_loss: nan\n",
            "Epoch 18/20\n",
            "363/363 [==============================] - 0s 942us/step - loss: nan - val_loss: nan\n",
            "Epoch 19/20\n",
            "363/363 [==============================] - 0s 895us/step - loss: nan - val_loss: nan\n",
            "Epoch 20/20\n",
            "363/363 [==============================] - 0s 914us/step - loss: nan - val_loss: nan\n",
            "162/162 [==============================] - 0s 619us/step - loss: nan\n"
          ],
          "name": "stdout"
        }
      ]
    },
    {
      "cell_type": "code",
      "metadata": {
        "id": "enHrN6SwXog-"
      },
      "source": [
        ""
      ],
      "execution_count": null,
      "outputs": []
    }
  ]
}